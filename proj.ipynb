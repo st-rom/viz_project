{
 "cells": [
  {
   "cell_type": "code",
   "execution_count": 1,
   "metadata": {},
   "outputs": [],
   "source": [
    "import altair as alt\n",
    "import pandas as pd\n",
    "from altair.expr import datum, if_, format"
   ]
  },
  {
   "cell_type": "code",
   "execution_count": 3,
   "metadata": {},
   "outputs": [
    {
     "data": {
      "text/plain": [
       "DataTransformerRegistry.enable('default')"
      ]
     },
     "execution_count": 3,
     "metadata": {},
     "output_type": "execute_result"
    }
   ],
   "source": [
    "alt.data_transformers.enable('default', max_rows=None)"
   ]
  },
  {
   "cell_type": "code",
   "execution_count": null,
   "metadata": {},
   "outputs": [],
   "source": [
    "data1 = pd.read_csv('data/all_gen_wyear.csv', dtype={'EDRPOU': object, 'KOATUU': object})\n",
    "df = pd.melt(data1, list(data1.columns[:5]) + list(data1.columns[11:]), list(data1.columns[5:11]))\n",
    "data1.head()"
   ]
  },
  {
   "cell_type": "code",
   "execution_count": null,
   "metadata": {},
   "outputs": [],
   "source": [
    "data2 = pd.read_csv('data/declarations_full.csv', sep=';')\n",
    "# data2.head()"
   ]
  },
  {
   "cell_type": "code",
   "execution_count": null,
   "metadata": {},
   "outputs": [],
   "source": [
    "base = alt.Chart(data1).properties(height=500, width=800, title = alt.TitleParams(text = 'Top 100 companies that produce biggest amounts of dangerous waste in Ukraine', \n",
    "                    subtitle = ['', 'The score of how dangerous produced waste is has been calculated by ПЗУВ formula', \"Hover to get more detils on company's waste priduction\", ''],\n",
    "                    font = 'Ubuntu Mono', fontSize = 20, color = '#3E454F', subtitleFont = 'Ubuntu Mono',\n",
    "                                      subtitleFontSize = 12, subtitleColor = '#3E454F', anchor='start'))\n",
    "\n",
    "\n",
    "marks = base.mark_point(size=50).encode(\n",
    "    x = alt.X('Відходів в одиницях Пзув:Q', scale=alt.Scale(type='log', base=2)),\n",
    "    y = alt.Y('Згенеровано відходів в тоннах:Q', scale=alt.Scale(type='log', base=2)),\n",
    "    tooltip = [alt.Tooltip('Name:N'), alt.Tooltip('Згенеровано відходів в тоннах:N'), alt.Tooltip('Відходів в одиницях Пзув:N'), alt.Tooltip('Відходи I класу:N'), alt.Tooltip('Відходи II класу:N') , alt.Tooltip('Відходи III класу:N') , alt.Tooltip('Відходи IV класу:N') ]\n",
    ").transform_window(\n",
    "    window=[{'op': 'rank', 'as': 'rank'}],\n",
    "    sort=[{'field': 'Відходів в одиницях Пзув', 'order': 'descending'}]\n",
    ").transform_filter('datum.rank <= 100')\n",
    "\n",
    "marks.configure_view(strokeOpacity=0\n",
    ").configure_axis(gridColor='#FFFFFF', ticks=False, domainColor='#FFFFFF', labelFont='ITC Franklin Gothic Demi', labelFontSize=12, labelColor='#635F5D', labelPadding=10, labelFontWeight='bold'\n",
    ").configure(background = '#EFECEA', padding = 22)"
   ]
  },
  {
   "cell_type": "code",
   "execution_count": null,
   "metadata": {},
   "outputs": [],
   "source": []
  },
  {
   "cell_type": "code",
   "execution_count": null,
   "metadata": {},
   "outputs": [],
   "source": [
    "select_box = alt.binding_select(options=list(df['variable'].unique()))\n",
    "selection = alt.selection_single(name='Y axis ', fields=['variable'], bind=select_box)\n",
    "bar_selector = alt.selection_single(fields=['EDRPOU'], on='mouseover')\n",
    "\n",
    "\n",
    "base = alt.Chart(df).properties(height=500, width=800, title = alt.TitleParams(text = '10 Highest Waste Generators in Ukraine', \n",
    "                    subtitle = ['', 'Top companies that generate the biggest amount of waste by categories', 'From Class I - highly dangerous waste, to Class IV - safe waste',\n",
    "                               'ПЗУВ(Показник Загального Утворення Відходів) - index of how dangerous and quantity of produced waste', 'Hover to get more detils', ''],\n",
    "                    font = 'Ubuntu Mono', fontSize = 20, color = '#3E454F', subtitleFont = 'Ubuntu Mono',\n",
    "                                      subtitleFontSize = 12, subtitleColor = '#3E454F', anchor='start'))\n",
    "\n",
    "bar_ch = base.mark_bar().encode(\n",
    "    x = alt.X('EDRPOU:N', axis=alt.Axis(title=\"Companies(ЄДРПОУ)\", labelAngle=0, titlePadding=42, titleFontSize=12), sort='-y'),\n",
    "    y = alt.Y('value:Q', axis=alt.Axis(title='', titlePadding=42, titleFontSize=12, titleAngle=90)), \n",
    "    opacity=alt.condition(bar_selector, alt.value(1.0), alt.value(0.6)),\n",
    "    tooltip = [alt.Tooltip('Name:N'), alt.Tooltip('Address:N'), alt.Tooltip('Contacts:N'), alt.Tooltip('KOATUU:N') ]\n",
    "#     sort=alt.SortField(field='Згенеровано відходів в тоннах:Q', order='descending'))\n",
    ").add_selection(\n",
    "    selection, bar_selector\n",
    ").transform_filter(\n",
    "    selection\n",
    ").transform_window(\n",
    "    window=[{'op': 'rank', 'as': 'rank'}],\n",
    "    sort=[{'field': 'value', 'order': 'descending'}]\n",
    ").transform_filter('datum.rank <= 10')\n",
    "\n",
    "\n",
    "(bar_ch).configure_view(strokeOpacity=0\n",
    ").configure_axis(gridColor='#FFFFFF', ticks=False, domainColor='#FFFFFF', labelFont='ITC Franklin Gothic Demi', labelFontSize=12, labelColor='#635F5D', labelPadding=10, labelFontWeight='bold'\n",
    ").configure(background = '#EFECEA', padding = 22)"
   ]
  },
  {
   "cell_type": "code",
   "execution_count": null,
   "metadata": {},
   "outputs": [],
   "source": []
  },
  {
   "cell_type": "code",
   "execution_count": 4,
   "metadata": {},
   "outputs": [],
   "source": [
    "import json\n",
    "import numpy as np\n",
    "\n",
    "mids_x = []\n",
    "mids_y = []\n",
    "with open('data/Ukraine.json', 'r') as f:\n",
    "    dd = json.load(f)\n",
    "for i in range(len(dd['features'])):\n",
    "    if len(np.array(dd['features'][i]['geometry']['coordinates']).shape) == 3:\n",
    "        mids_x.append(np.mean(np.array(dd['features'][i]['geometry']['coordinates'])[0, :, 0]))\n",
    "        mids_y.append(np.mean(np.array(dd['features'][i]['geometry']['coordinates'])[0, :, 1]))\n",
    "    else:\n",
    "        ar = np.array([[np.mean(np.array(j)[:, 0]), np.mean(np.array(j)[:, 1])] for j in dd['features'][8]['geometry']['coordinates']])\n",
    "        mids_x.append(np.mean(ar[:, 0]))\n",
    "        mids_y.append(np.mean(ar[:, 1]))"
   ]
  },
  {
   "cell_type": "code",
   "execution_count": 5,
   "metadata": {},
   "outputs": [
    {
     "data": {
      "text/html": [
       "\n",
       "<div id=\"altair-viz-1\"></div>\n",
       "<script type=\"text/javascript\">\n",
       "  (function(spec, embedOpt){\n",
       "    const outputDiv = document.getElementById(\"altair-viz-1\");\n",
       "    const paths = {\n",
       "      \"vega\": \"https://cdn.jsdelivr.net/npm//vega@5?noext\",\n",
       "      \"vega-lib\": \"https://cdn.jsdelivr.net/npm//vega-lib?noext\",\n",
       "      \"vega-lite\": \"https://cdn.jsdelivr.net/npm//vega-lite@4.0.0?noext\",\n",
       "      \"vega-embed\": \"https://cdn.jsdelivr.net/npm//vega-embed@6?noext\",\n",
       "    };\n",
       "\n",
       "    function loadScript(lib) {\n",
       "      return new Promise(function(resolve, reject) {\n",
       "        var s = document.createElement('script');\n",
       "        s.src = paths[lib];\n",
       "        s.async = true;\n",
       "        s.onload = () => resolve(paths[lib]);\n",
       "        s.onerror = () => reject(`Error loading script: ${paths[lib]}`);\n",
       "        document.getElementsByTagName(\"head\")[0].appendChild(s);\n",
       "      });\n",
       "    }\n",
       "\n",
       "    function showError(err) {\n",
       "      outputDiv.innerHTML = `<div class=\"error\" style=\"color:red;\">${err}</div>`;\n",
       "      throw err;\n",
       "    }\n",
       "\n",
       "    function displayChart(vegaEmbed) {\n",
       "      vegaEmbed(outputDiv, spec, embedOpt)\n",
       "        .catch(err => showError(`Javascript Error: ${err.message}<br>This usually means there's a typo in your chart specification. See the javascript console for the full traceback.`));\n",
       "    }\n",
       "\n",
       "    if(typeof define === \"function\" && define.amd) {\n",
       "      requirejs.config({paths});\n",
       "      require([\"vega-embed\"], displayChart, err => showError(`Error loading script: ${err.message}`));\n",
       "    } else if (typeof vegaEmbed === \"function\") {\n",
       "      displayChart(vegaEmbed);\n",
       "    } else {\n",
       "      loadScript(\"vega\")\n",
       "        .then(() => loadScript(\"vega-lite\"))\n",
       "        .then(() => loadScript(\"vega-embed\"))\n",
       "        .catch(showError)\n",
       "        .then(() => displayChart(vegaEmbed));\n",
       "    }\n",
       "  })({\"config\": {\"view\": {\"continuousWidth\": 400, \"continuousHeight\": 300}}, \"data\": {\"url\": \"data/Ukraine.json\", \"format\": {\"property\": \"features\", \"type\": \"json\"}}, \"mark\": {\"type\": \"geoshape\", \"fill\": \"white\", \"stroke\": \"black\"}, \"encoding\": {}, \"height\": 500, \"width\": 800, \"$schema\": \"https://vega.github.io/schema/vega-lite/v4.0.0.json\"}, {\"mode\": \"vega-lite\"});\n",
       "</script>"
      ],
      "text/plain": [
       "alt.Chart(...)"
      ]
     },
     "execution_count": 5,
     "metadata": {},
     "output_type": "execute_result"
    }
   ],
   "source": [
    "data_geojson_remote = alt.Data(url='data/Ukraine.json', format=alt.DataFormat(property='features',type='json'))\n",
    "\n",
    "mapa = alt.Chart(data_geojson_remote).properties(width=800, height=500).mark_geoshape(fill='white',\n",
    "    stroke='black'\n",
    ").encode(\n",
    "#     color=alt.Color(\"properties.name:N\")\n",
    ")\n",
    "mapa"
   ]
  },
  {
   "cell_type": "code",
   "execution_count": null,
   "metadata": {},
   "outputs": [],
   "source": []
  }
 ],
 "metadata": {
  "kernelspec": {
   "display_name": "Python 3",
   "language": "python",
   "name": "python3"
  },
  "language_info": {
   "codemirror_mode": {
    "name": "ipython",
    "version": 3
   },
   "file_extension": ".py",
   "mimetype": "text/x-python",
   "name": "python",
   "nbconvert_exporter": "python",
   "pygments_lexer": "ipython3",
   "version": "3.7.3"
  }
 },
 "nbformat": 4,
 "nbformat_minor": 2
}
