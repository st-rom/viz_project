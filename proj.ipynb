{
 "cells": [
  {
   "cell_type": "code",
   "execution_count": 1,
   "metadata": {},
   "outputs": [],
   "source": [
    "import altair as alt\n",
    "import pandas as pd\n",
    "from altair.expr import datum, if_, format"
   ]
  },
  {
   "cell_type": "code",
   "execution_count": 3,
   "metadata": {},
   "outputs": [
    {
     "data": {
      "text/plain": [
       "DataTransformerRegistry.enable('default')"
      ]
     },
     "execution_count": 3,
     "metadata": {},
     "output_type": "execute_result"
    }
   ],
   "source": [
    "alt.data_transformers.enable('default', max_rows=None)"
   ]
  },
  {
   "cell_type": "code",
   "execution_count": null,
   "metadata": {},
   "outputs": [],
   "source": [
    "data1 = pd.read_csv('data/all_gen_wyear.csv', dtype={'EDRPOU': object, 'KOATUU': object})\n",
    "df = pd.melt(data1, list(data1.columns[:5]) + list(data1.columns[11:]), list(data1.columns[5:11]))\n",
    "data1.head()"
   ]
  },
  {
   "cell_type": "code",
   "execution_count": null,
   "metadata": {},
   "outputs": [],
   "source": [
    "data2 = pd.read_csv('data/declarations_full.csv', sep=';')\n",
    "# data2.head()"
   ]
  },
  {
   "cell_type": "code",
   "execution_count": null,
   "metadata": {},
   "outputs": [],
   "source": [
    "base = alt.Chart(data1).properties(height=500, width=800, title = alt.TitleParams(text = 'Top 100 companies that produce biggest amounts of dangerous waste in Ukraine', \n",
    "                    subtitle = ['', 'The score of how dangerous produced waste is has been calculated by ПЗУВ formula', \"Hover to get more detils on company's waste priduction\", ''],\n",
    "                    font = 'Ubuntu Mono', fontSize = 20, color = '#3E454F', subtitleFont = 'Ubuntu Mono',\n",
    "                                      subtitleFontSize = 12, subtitleColor = '#3E454F', anchor='start'))\n",
    "\n",
    "\n",
    "marks = base.mark_point(size=50).encode(\n",
    "    x = alt.X('Відходів в одиницях Пзув:Q', scale=alt.Scale(type='log', base=2)),\n",
    "    y = alt.Y('Згенеровано відходів в тоннах:Q', scale=alt.Scale(type='log', base=2)),\n",
    "    tooltip = [alt.Tooltip('Name:N'), alt.Tooltip('Згенеровано відходів в тоннах:N'), alt.Tooltip('Відходів в одиницях Пзув:N'), alt.Tooltip('Відходи I класу:N'), alt.Tooltip('Відходи II класу:N') , alt.Tooltip('Відходи III класу:N') , alt.Tooltip('Відходи IV класу:N') ]\n",
    ").transform_window(\n",
    "    window=[{'op': 'rank', 'as': 'rank'}],\n",
    "    sort=[{'field': 'Відходів в одиницях Пзув', 'order': 'descending'}]\n",
    ").transform_filter('datum.rank <= 100')\n",
    "\n",
    "marks.configure_view(strokeOpacity=0\n",
    ").configure_axis(gridColor='#FFFFFF', ticks=False, domainColor='#FFFFFF', labelFont='ITC Franklin Gothic Demi', labelFontSize=12, labelColor='#635F5D', labelPadding=10, labelFontWeight='bold'\n",
    ").configure(background = '#EFECEA', padding = 22)"
   ]
  },
  {
   "cell_type": "code",
   "execution_count": null,
   "metadata": {},
   "outputs": [],
   "source": []
  },
  {
   "cell_type": "code",
   "execution_count": null,
   "metadata": {},
   "outputs": [],
   "source": [
    "select_box = alt.binding_select(options=list(df['variable'].unique()))\n",
    "selection = alt.selection_single(name='Y axis ', fields=['variable'], bind=select_box)\n",
    "bar_selector = alt.selection_single(fields=['EDRPOU'], on='mouseover')\n",
    "\n",
    "\n",
    "base = alt.Chart(df).properties(height=500, width=800, title = alt.TitleParams(text = '10 Highest Waste Generators in Ukraine', \n",
    "                    subtitle = ['', 'Top companies that generate the biggest amount of waste by categories', 'From Class I - highly dangerous waste, to Class IV - safe waste',\n",
    "                               'ПЗУВ(Показник Загального Утворення Відходів) - index of how dangerous and quantity of produced waste', 'Hover to get more detils', ''],\n",
    "                    font = 'Ubuntu Mono', fontSize = 20, color = '#3E454F', subtitleFont = 'Ubuntu Mono',\n",
    "                                      subtitleFontSize = 12, subtitleColor = '#3E454F', anchor='start'))\n",
    "\n",
    "bar_ch = base.mark_bar().encode(\n",
    "    x = alt.X('EDRPOU:N', axis=alt.Axis(title=\"Companies(ЄДРПОУ)\", labelAngle=0, titlePadding=42, titleFontSize=12), sort='-y'),\n",
    "    y = alt.Y('value:Q', axis=alt.Axis(title='', titlePadding=42, titleFontSize=12, titleAngle=90)), \n",
    "    opacity=alt.condition(bar_selector, alt.value(1.0), alt.value(0.6)),\n",
    "    tooltip = [alt.Tooltip('Name:N'), alt.Tooltip('Address:N'), alt.Tooltip('Contacts:N'), alt.Tooltip('KOATUU:N') ]\n",
    "#     sort=alt.SortField(field='Згенеровано відходів в тоннах:Q', order='descending'))\n",
    ").add_selection(\n",
    "    selection, bar_selector\n",
    ").transform_filter(\n",
    "    selection\n",
    ").transform_window(\n",
    "    window=[{'op': 'rank', 'as': 'rank'}],\n",
    "    sort=[{'field': 'value', 'order': 'descending'}]\n",
    ").transform_filter('datum.rank <= 10')\n",
    "\n",
    "\n",
    "(bar_ch).configure_view(strokeOpacity=0\n",
    ").configure_axis(gridColor='#FFFFFF', ticks=False, domainColor='#FFFFFF', labelFont='ITC Franklin Gothic Demi', labelFontSize=12, labelColor='#635F5D', labelPadding=10, labelFontWeight='bold'\n",
    ").configure(background = '#EFECEA', padding = 22)"
   ]
  },
  {
   "cell_type": "code",
   "execution_count": null,
   "metadata": {},
   "outputs": [],
   "source": []
  }
 ],
 "metadata": {
  "kernelspec": {
   "display_name": "Python 3",
   "language": "python",
   "name": "python3"
  },
  "language_info": {
   "codemirror_mode": {
    "name": "ipython",
    "version": 3
   },
   "file_extension": ".py",
   "mimetype": "text/x-python",
   "name": "python",
   "nbconvert_exporter": "python",
   "pygments_lexer": "ipython3",
   "version": "3.7.3"
  }
 },
 "nbformat": 4,
 "nbformat_minor": 2
}
