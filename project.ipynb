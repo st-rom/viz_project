{
 "cells": [
  {
   "cell_type": "code",
   "execution_count": 1,
   "metadata": {},
   "outputs": [],
   "source": [
    "import altair as alt\n",
    "import pandas as pd\n",
    "from altair.expr import datum, if_, format"
   ]
  },
  {
   "cell_type": "code",
   "execution_count": 3,
   "metadata": {},
   "outputs": [
    {
     "data": {
      "text/plain": [
       "DataTransformerRegistry.enable('default')"
      ]
     },
     "execution_count": 3,
     "metadata": {},
     "output_type": "execute_result"
    }
   ],
   "source": [
    "alt.data_transformers.enable('default', max_rows=None) "
   ]
  },
  {
   "cell_type": "code",
   "execution_count": null,
   "metadata": {},
   "outputs": [],
   "source": [
    "data1 = pd.read_csv('data/all_gen_wyear.csv', dtype={'EDRPOU': object, 'KOATUU': object})\n",
    "df = pd.melt(data1, list(data1.columns[:5]) + list(data1.columns[11:]), list(data1.columns[5:11]))\n",
    "data1['KOATUU_short'] = data1['KOATUU'].apply(lambda x: x[:2] if x[:2] not in ['80', '85'] else ('32' if x[:2] == '80' else '01'))\n",
    "data1.head()"
   ]
  },
  {
   "cell_type": "code",
   "execution_count": null,
   "metadata": {},
   "outputs": [],
   "source": [
    "# data2 = pd.read_csv('data/declarations_full.csv', sep=';')\n",
    "# data2.head()"
   ]
  },
  {
   "cell_type": "code",
   "execution_count": null,
   "metadata": {},
   "outputs": [],
   "source": [
    "base = alt.Chart(data1).properties(height=500, width=800, title = alt.TitleParams(text = 'Top 100 companies that produce biggest amounts of dangerous waste in Ukraine', \n",
    "                    subtitle = ['', 'The score of how dangerous produced waste is has been calculated by ПЗУВ formula', \"Hover to get more detils on company's waste priduction\", ''],\n",
    "                    font = 'Ubuntu Mono', fontSize = 20, color = '#3E454F', subtitleFont = 'Ubuntu Mono',\n",
    "                                      subtitleFontSize = 12, subtitleColor = '#3E454F', anchor='start'))\n",
    "\n",
    "\n",
    "marks = base.mark_point(size=50).encode(\n",
    "    x = alt.X('Відходів в одиницях Пзув:Q', scale=alt.Scale(type='log', base=2)),\n",
    "    y = alt.Y('Згенеровано відходів в тоннах:Q', scale=alt.Scale(type='log', base=2)),\n",
    "    tooltip = [alt.Tooltip('Name:N'), alt.Tooltip('Згенеровано відходів в тоннах:N'), alt.Tooltip('Відходів в одиницях Пзув:N'), alt.Tooltip('Відходи I класу:N'), alt.Tooltip('Відходи II класу:N') , alt.Tooltip('Відходи III класу:N') , alt.Tooltip('Відходи IV класу:N') ]\n",
    ").transform_window(\n",
    "    window=[{'op': 'rank', 'as': 'rank'}],\n",
    "    sort=[{'field': 'Відходів в одиницях Пзув', 'order': 'descending'}]\n",
    ").transform_filter('datum.rank <= 100')\n",
    "\n",
    "marks.configure_view(strokeOpacity=0\n",
    ").configure_axis(gridColor='#FFFFFF', ticks=False, domainColor='#FFFFFF', labelFont='ITC Franklin Gothic Demi', labelFontSize=12, labelColor='#635F5D', labelPadding=10, labelFontWeight='bold'\n",
    ").configure(background = '#EFECEA', padding = 22)"
   ]
  },
  {
   "cell_type": "code",
   "execution_count": null,
   "metadata": {},
   "outputs": [],
   "source": []
  },
  {
   "cell_type": "code",
   "execution_count": null,
   "metadata": {},
   "outputs": [],
   "source": [
    "select_box = alt.binding_select(options=list(df['variable'].unique()))\n",
    "selection = alt.selection_single(name='Y axis ', fields=['variable'], bind=select_box)\n",
    "bar_selector = alt.selection_single(fields=['EDRPOU'], on='mouseover')\n",
    "\n",
    "\n",
    "base = alt.Chart(df).properties(height=500, width=800, title = alt.TitleParams(text = '10 Highest Waste Generators in Ukraine', \n",
    "                    subtitle = ['', 'Top companies that generate the biggest amount of waste by categories', 'From Class I - highly dangerous waste, to Class IV - safe waste',\n",
    "                               'ПЗУВ(Показник Загального Утворення Відходів) - index of how dangerous and quantity of produced waste', 'Hover to get more detils', ''],\n",
    "                    font = 'Ubuntu Mono', fontSize = 20, color = '#3E454F', subtitleFont = 'Ubuntu Mono',\n",
    "                                      subtitleFontSize = 12, subtitleColor = '#3E454F', anchor='start'))\n",
    "\n",
    "bar_ch = base.mark_bar().encode(\n",
    "    x = alt.X('EDRPOU:N', axis=alt.Axis(title=\"Companies(ЄДРПОУ)\", labelAngle=0, titlePadding=42, titleFontSize=12), sort='-y'),\n",
    "    y = alt.Y('value:Q', axis=alt.Axis(title='', titlePadding=42, titleFontSize=12, titleAngle=90)), \n",
    "    opacity=alt.condition(bar_selector, alt.value(1.0), alt.value(0.6)),\n",
    "    tooltip = [alt.Tooltip('Name:N'), alt.Tooltip('Address:N'), alt.Tooltip('Contacts:N'), alt.Tooltip('KOATUU:N') ]\n",
    "#     sort=alt.SortField(field='Згенеровано відходів в тоннах:Q', order='descending'))\n",
    ").add_selection(\n",
    "    selection, bar_selector\n",
    ").transform_filter(\n",
    "    selection\n",
    ").transform_window(\n",
    "    window=[{'op': 'rank', 'as': 'rank'}],\n",
    "    sort=[{'field': 'value', 'order': 'descending'}]\n",
    ").transform_filter('datum.rank <= 10')\n",
    "\n",
    "(bar_ch).configure_view(strokeOpacity=0\n",
    ").configure_axis(gridColor='#FFFFFF', ticks=False, domainColor='#FFFFFF', labelFont='ITC Franklin Gothic Demi', labelFontSize=12, labelColor='#635F5D', labelPadding=10, labelFontWeight='bold'\n",
    ").configure(background = '#EFECEA', padding = 22)"
   ]
  },
  {
   "cell_type": "code",
   "execution_count": null,
   "metadata": {},
   "outputs": [],
   "source": [
    "import json\n",
    "import numpy as np\n",
    "\n",
    "mids_x = []\n",
    "mids_y = []\n",
    "koatuu = []\n",
    "name = []\n",
    "with open('data/Ukraine.json', 'r') as f:\n",
    "    dd = json.load(f)\n",
    "for i in range(len(dd['features'])):\n",
    "    name.append(dd['features'][i]['properties']['name'])\n",
    "    koatuu.append(dd['features'][i]['properties']['koatuu'][:2])\n",
    "    if len(np.array(dd['features'][i]['geometry']['coordinates']).shape) == 3:\n",
    "        mids_x.append(np.mean(np.array(dd['features'][i]['geometry']['coordinates'])[0, :, 0]))\n",
    "        mids_y.append(np.mean(np.array(dd['features'][i]['geometry']['coordinates'])[0, :, 1]))\n",
    "    else:\n",
    "        ar = np.array([[np.mean(np.array(j)[:, 0]), np.mean(np.array(j)[:, 1])] for j in dd['features'][i]['geometry']['coordinates']])\n",
    "        mids_x.append(np.mean(ar[:, 0]))\n",
    "        mids_y.append(np.mean(ar[:, 1]))\n",
    "        \n",
    "map_coords = pd.DataFrame({'x': mids_x, 'y': mids_y, 'КОАТУУ': koatuu, 'Регіон': name})\n",
    "map_coords = map_coords.drop(map_coords.index[3])\n",
    "map_coords.head()"
   ]
  },
  {
   "cell_type": "code",
   "execution_count": null,
   "metadata": {},
   "outputs": [],
   "source": []
  },
  {
   "cell_type": "code",
   "execution_count": null,
   "metadata": {},
   "outputs": [],
   "source": [
    "map_coords['ПЗУВ'] = [data1.loc[data1['KOATUU_short'] == i, 'Відходів в одиницях Пзув'].sum() if i != '32' else (data1.loc[data1['KOATUU_short'] == '32', 'Відходів в одиницях Пзув'].sum() + data1.loc[data1['KOATUU_short'] == '80', 'Відходів в одиницях Пзув'].sum()) for i in map_coords['КОАТУУ']]\n",
    "\n",
    "pnts = alt.Chart(map_coords).properties(width=800, height=500).mark_circle(color='green', opacity=0.5).encode(\n",
    "    x=alt.X('x', scale=alt.Scale(domain=[22,40]), axis=None),\n",
    "    y=alt.Y('y', scale=alt.Scale(domain=[44,53]), axis=None),\n",
    "    tooltip=[alt.Tooltip('КОАТУУ:N'), alt.Tooltip('ПЗУВ:Q'), alt.Tooltip('Регіон:N')],\n",
    "    size=alt.Size('ПЗУВ:Q', scale=alt.Scale(range=[100, 5000]))\n",
    ")"
   ]
  },
  {
   "cell_type": "code",
   "execution_count": null,
   "metadata": {
    "scrolled": false
   },
   "outputs": [],
   "source": [
    "data_geojson_remote = alt.Data(url='data/Ukraine.json', format=alt.DataFormat(property='features',type='json'))\n",
    "\n",
    "mapa = alt.Chart(data_geojson_remote).properties(width=800, height=500, title = alt.TitleParams(text = 'Waste production in different Ukrainian regions', \n",
    "                    subtitle = ['', 'Generation of waste by PZUV index in all regions in Ukraine (from 2015 to 2019)', 'Hover to get more detils', ''],\n",
    "                    font = 'Ubuntu Mono', fontSize = 20, color = '#3E454F', subtitleFont = 'Ubuntu Mono',\n",
    "                                      subtitleFontSize = 12, subtitleColor = '#3E454F', anchor='start')).mark_geoshape(fill='white',\n",
    "    stroke='black'\n",
    ").encode(\n",
    ")\n",
    "(mapa+pnts).configure_view(strokeOpacity=0\n",
    ").configure_axis(gridColor='#FFFFFF', ticks=False, domainColor='#FFFFFF', labelFont='ITC Franklin Gothic Demi', labelFontSize=12, labelColor='#635F5D', labelPadding=10, labelFontWeight='bold'\n",
    ").configure(background = '#EFECEA', padding = 22)"
   ]
  },
  {
   "cell_type": "code",
   "execution_count": null,
   "metadata": {},
   "outputs": [],
   "source": []
  },
  {
   "cell_type": "code",
   "execution_count": null,
   "metadata": {},
   "outputs": [],
   "source": []
  },
  {
   "cell_type": "code",
   "execution_count": null,
   "metadata": {},
   "outputs": [],
   "source": []
  },
  {
   "cell_type": "code",
   "execution_count": null,
   "metadata": {},
   "outputs": [],
   "source": []
  },
  {
   "cell_type": "code",
   "execution_count": null,
   "metadata": {},
   "outputs": [],
   "source": []
  },
  {
   "cell_type": "code",
   "execution_count": null,
   "metadata": {},
   "outputs": [],
   "source": []
  },
  {
   "cell_type": "code",
   "execution_count": null,
   "metadata": {},
   "outputs": [],
   "source": []
  },
  {
   "cell_type": "code",
   "execution_count": null,
   "metadata": {},
   "outputs": [],
   "source": []
  },
  {
   "cell_type": "markdown",
   "metadata": {},
   "source": [
    "далі чернетка"
   ]
  },
  {
   "cell_type": "code",
   "execution_count": null,
   "metadata": {},
   "outputs": [],
   "source": [
    "\n",
    "# other_text= base.mark_text(align='center', baseline='bottom').encode(\n",
    "#     y=alt.Y('value:Q'),\n",
    "#     x=alt.X('EDRPOU:O', sort='-y'),\n",
    "#     text='label:N',\n",
    "#     opacity=alt.condition(bar_selector, alt.value(0.0), alt.value(1.0))\n",
    "# ).transform_calculate(label=if_(datum.value - bar_selector['value']> 0, \"+\" + format(datum.value - bar_selector['value'], \".1f\"), format(datum.value - bar_selector['value'],\".1f\"))\n",
    "# ).transform_filter(~bar_selector)\n",
    "\n",
    "\n",
    "# texts = alt.Chart().mark_text(dy=-200, size=20).encode(\n",
    "#     text='variable:N'\n",
    "# ).transform_filter(\n",
    "#     selection\n",
    "# )\n"
   ]
  },
  {
   "cell_type": "code",
   "execution_count": null,
   "metadata": {},
   "outputs": [],
   "source": [
    "# data1['pzuv'] = data1['Відходів в одиницях Пзув']\n",
    "# pnts = alt.Chart(map_coords).properties(width=800, height=500).mark_circle(color='green').encode(\n",
    "#     x=alt.X('x', scale=alt.Scale(domain=[22,40])),\n",
    "#     y=alt.Y('y', scale=alt.Scale(domain=[44,53])),\n",
    "#     tooltip=[alt.Tooltip('KOATUU:N'), alt.Tooltip('sum(pzuv):Q')],\n",
    "#     size=alt.Size('sum(Відходів в одиницях Пзув):Q', scale=alt.Scale(range=[100, 500]))\n",
    "# ).transform_lookup(\n",
    "#     lookup='KOATUU',\n",
    "#     from_=alt.LookupData(data1, 'KOATUU_short', ['pzuv']), as_='val'\n",
    "# ).transform_aggregate(\n",
    "#     sum_pzuv='sum(pzuv)', groupby=['val']\n",
    "# )\n",
    "# pnts"
   ]
  },
  {
   "cell_type": "code",
   "execution_count": null,
   "metadata": {},
   "outputs": [],
   "source": [
    "# k=np.array(np.array(dd['features'][-10]['geometry']['coordinates'])[0])\n",
    "# np.mean(k[:, 1])\n",
    "# # np.array([[np.mean(np.array(j)[:, 0]), np.mean(np.array(j)[:, 1])] for j in dd['features'][8]['geometry']['coordinates']])\n",
    "# np.array([[np.mean(np.array(j)[:, 0]), np.mean(np.array(j)[:, 1])] for j in dd['features'][8]['geometry']['coordinates']])\n",
    "# data1[data1['KOATUU_short']=='32']\n",
    "# # np.array([np.array(xi) for xi in dd['features'][8]['geometry']['coordinates']]).squeeze()\n"
   ]
  }
 ],
 "metadata": {
  "kernelspec": {
   "display_name": "Python 3",
   "language": "python",
   "name": "python3"
  },
  "language_info": {
   "codemirror_mode": {
    "name": "ipython",
    "version": 3
   },
   "file_extension": ".py",
   "mimetype": "text/x-python",
   "name": "python",
   "nbconvert_exporter": "python",
   "pygments_lexer": "ipython3",
   "version": "3.7.3"
  }
 },
 "nbformat": 4,
 "nbformat_minor": 2
}
